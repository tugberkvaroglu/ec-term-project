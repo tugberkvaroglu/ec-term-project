{
  "cells": [
    {
      "cell_type": "markdown",
      "metadata": {
        "id": "qNpNsVi-f7-5"
      },
      "source": [
        "# Machine Learning Feature Extraction Optimization Using Evolutionary Computation Algorithms\n"
      ]
    },
    {
      "cell_type": "markdown",
      "metadata": {
        "id": "6sD7khh0f7-8"
      },
      "source": [
        "- Problem Definition\n",
        "\n",
        "- Dataset Explanation\n",
        "\n",
        "- Strategies\n"
      ]
    },
    {
      "cell_type": "markdown",
      "metadata": {
        "id": "p1fnevscf7-9"
      },
      "source": [
        "## Possible dataset\n",
        "\n",
        "[Heart Failure Prediction Dataset](https://www.kaggle.com/datasets/andrewmvd/heart-failure-clinical-data) (13 features)\n",
        "\n",
        "[Real or Fake Jobposting Prediction Dataset](https://www.kaggle.com/datasets/shivamb/real-or-fake-fake-jobposting-prediction) (18 features)\n",
        "\n",
        "[Footballer Price Prediction Dataset](https://www.kaggle.com/datasets/rashadrmammadov/football-teams-price-prediction) (26 features)\n",
        "\n",
        "[Loan Default Prediction Dataset](https://www.kaggle.com/datasets/hemanthsai7/loandefault) (35 features)\n",
        "\n",
        "[Bankruptcy Prediction Dataset](https://www.kaggle.com/datasets/fedesoriano/company-bankruptcy-prediction) (96 features)\n"
      ]
    },
    {
      "cell_type": "markdown",
      "metadata": {
        "id": "sBgJk7tIf7-_"
      },
      "source": [
        "## Models\n",
        "\n",
        "- Random Forest\n",
        "\n",
        "- XGBoost\n",
        "\n",
        "- Logistic Regression\n",
        "\n",
        "- Linear Regression\n",
        "\n",
        "- FCNN(?)\n",
        "\n",
        "- SVM(?)"
      ]
    },
    {
      "cell_type": "code",
      "execution_count": 24,
      "metadata": {},
      "outputs": [],
      "source": [
        "# !pip install pandas numpy scikit-learn kagglehub"
      ]
    },
    {
      "cell_type": "code",
      "execution_count": 1,
      "metadata": {
        "id": "6sCdhIF5f7--"
      },
      "outputs": [],
      "source": [
        "import pandas as pd\n",
        "import numpy as np"
      ]
    },
    {
      "cell_type": "code",
      "execution_count": 2,
      "metadata": {
        "colab": {
          "base_uri": "https://localhost:8080/"
        },
        "collapsed": true,
        "id": "tJAXv8FEf7_B",
        "outputId": "27340360-6c7b-4df4-af56-a52bf8b67b68"
      },
      "outputs": [
        {
          "name": "stderr",
          "output_type": "stream",
          "text": [
            "/home/tugberk/.local/lib/python3.10/site-packages/tqdm/auto.py:21: TqdmWarning: IProgress not found. Please update jupyter and ipywidgets. See https://ipywidgets.readthedocs.io/en/stable/user_install.html\n",
            "  from .autonotebook import tqdm as notebook_tqdm\n"
          ]
        }
      ],
      "source": [
        "import kagglehub\n",
        "\n",
        "path_bankrupt = kagglehub.dataset_download(\"fedesoriano/company-bankruptcy-prediction\")\n",
        "path_loan = kagglehub.dataset_download(\"hemanthsai7/loandefault\")\n",
        "path_footballer = kagglehub.dataset_download(\"rashadrmammadov/football-teams-price-prediction\")\n",
        "path_job = kagglehub.dataset_download(\"shivamb/real-or-fake-fake-jobposting-prediction\")\n",
        "path_heart = kagglehub.dataset_download(\"andrewmvd/heart-failure-clinical-data\")\n"
      ]
    },
    {
      "cell_type": "code",
      "execution_count": 3,
      "metadata": {
        "id": "LaWBH9eBf7_C"
      },
      "outputs": [],
      "source": [
        "heart_data_path = f\"{path_heart}/heart_failure_clinical_records_dataset.csv\"\n",
        "job_data_path = f\"{path_job}/fake_job_postings.csv\"\n",
        "footballer_data_path = f\"{path_footballer}/Football_teams_price_data.csv\"\n",
        "loan_data_path = f\"{path_loan}/train.csv\"\n",
        "bankrupt_data_path = f\"{path_bankrupt}/data.csv\""
      ]
    },
    {
      "cell_type": "code",
      "execution_count": 4,
      "metadata": {
        "id": "hICFWk1rf7_D"
      },
      "outputs": [],
      "source": [
        "heart_data = pd.read_csv(heart_data_path)\n",
        "job_data = pd.read_csv(job_data_path)\n",
        "footballer_data = pd.read_csv(footballer_data_path)\n",
        "loan_data = pd.read_csv(loan_data_path)\n",
        "bankrupt_data = pd.read_csv(bankrupt_data_path)"
      ]
    },
    {
      "cell_type": "markdown",
      "metadata": {
        "id": "Gs9ziO_x_pl_"
      },
      "source": [
        "# Check Datasets\n",
        "- There is not null values in any dataset."
      ]
    },
    {
      "cell_type": "code",
      "execution_count": 29,
      "metadata": {
        "colab": {
          "base_uri": "https://localhost:8080/",
          "height": 55
        },
        "id": "YvHSbWSWET3s",
        "outputId": "c76cd84c-65aa-4353-e6f2-11911290fc78"
      },
      "outputs": [
        {
          "data": {
            "text/plain": [
              "13"
            ]
          },
          "metadata": {},
          "output_type": "display_data"
        }
      ],
      "source": [
        "display(len(heart_data.columns))"
      ]
    },
    {
      "cell_type": "code",
      "execution_count": 5,
      "metadata": {
        "colab": {
          "base_uri": "https://localhost:8080/"
        },
        "collapsed": true,
        "id": "NpY_-Hwl_Ur1",
        "outputId": "9a4ef8c4-27cd-4374-e56e-f98603791407"
      },
      "outputs": [
        {
          "name": "stdout",
          "output_type": "stream",
          "text": [
            "<class 'pandas.core.frame.DataFrame'>\n",
            "RangeIndex: 299 entries, 0 to 298\n",
            "Data columns (total 13 columns):\n",
            " #   Column                    Non-Null Count  Dtype  \n",
            "---  ------                    --------------  -----  \n",
            " 0   age                       299 non-null    float64\n",
            " 1   anaemia                   299 non-null    int64  \n",
            " 2   creatinine_phosphokinase  299 non-null    int64  \n",
            " 3   diabetes                  299 non-null    int64  \n",
            " 4   ejection_fraction         299 non-null    int64  \n",
            " 5   high_blood_pressure       299 non-null    int64  \n",
            " 6   platelets                 299 non-null    float64\n",
            " 7   serum_creatinine          299 non-null    float64\n",
            " 8   serum_sodium              299 non-null    int64  \n",
            " 9   sex                       299 non-null    int64  \n",
            " 10  smoking                   299 non-null    int64  \n",
            " 11  time                      299 non-null    int64  \n",
            " 12  DEATH_EVENT               299 non-null    int64  \n",
            "dtypes: float64(3), int64(10)\n",
            "memory usage: 30.5 KB\n"
          ]
        },
        {
          "data": {
            "text/plain": [
              "None"
            ]
          },
          "metadata": {},
          "output_type": "display_data"
        },
        {
          "name": "stdout",
          "output_type": "stream",
          "text": [
            "<class 'pandas.core.frame.DataFrame'>\n",
            "RangeIndex: 50000 entries, 0 to 49999\n",
            "Data columns (total 26 columns):\n",
            " #   Column                        Non-Null Count  Dtype  \n",
            "---  ------                        --------------  -----  \n",
            " 0   AveragePlayerAge              50000 non-null  float64\n",
            " 1   TotalGoalsLastSeason          50000 non-null  int64  \n",
            " 2   MatchesWonLastSeason          50000 non-null  int64  \n",
            " 3   MatchesDrawnLastSeason        50000 non-null  int64  \n",
            " 4   MatchesLostLastSeason         50000 non-null  int64  \n",
            " 5   TotalGoalsConcededLastSeason  50000 non-null  int64  \n",
            " 6   TotalRevenueLastSeason        50000 non-null  float64\n",
            " 7   StadiumCapacity               50000 non-null  int64  \n",
            " 8   AverageAttendance             50000 non-null  float64\n",
            " 9   TransferSpendingLastSeason    50000 non-null  float64\n",
            " 10  TransferIncomeLastSeason      50000 non-null  float64\n",
            " 11  NumberOfTrophies              50000 non-null  int64  \n",
            " 12  MarketValueOfSquad            50000 non-null  float64\n",
            " 13  AveragePlayerMarketValue      50000 non-null  float64\n",
            " 14  YouthAcademyRating            50000 non-null  float64\n",
            " 15  League                        50000 non-null  object \n",
            " 16  Country                       50000 non-null  object \n",
            " 17  Manager                       50000 non-null  object \n",
            " 18  TeamFormation                 50000 non-null  object \n",
            " 19  PlayingStyle                  50000 non-null  object \n",
            " 20  HomeCity                      50000 non-null  object \n",
            " 21  StadiumType                   50000 non-null  object \n",
            " 22  MainSponsor                   50000 non-null  object \n",
            " 23  KitManufacturer               50000 non-null  object \n",
            " 24  OwnershipType                 50000 non-null  object \n",
            " 25  Price                         50000 non-null  object \n",
            "dtypes: float64(8), int64(7), object(11)\n",
            "memory usage: 9.9+ MB\n"
          ]
        },
        {
          "data": {
            "text/plain": [
              "None"
            ]
          },
          "metadata": {},
          "output_type": "display_data"
        },
        {
          "name": "stdout",
          "output_type": "stream",
          "text": [
            "<class 'pandas.core.frame.DataFrame'>\n",
            "RangeIndex: 6819 entries, 0 to 6818\n",
            "Data columns (total 96 columns):\n",
            " #   Column                                                    Non-Null Count  Dtype  \n",
            "---  ------                                                    --------------  -----  \n",
            " 0   Bankrupt?                                                 6819 non-null   int64  \n",
            " 1    ROA(C) before interest and depreciation before interest  6819 non-null   float64\n",
            " 2    ROA(A) before interest and % after tax                   6819 non-null   float64\n",
            " 3    ROA(B) before interest and depreciation after tax        6819 non-null   float64\n",
            " 4    Operating Gross Margin                                   6819 non-null   float64\n",
            " 5    Realized Sales Gross Margin                              6819 non-null   float64\n",
            " 6    Operating Profit Rate                                    6819 non-null   float64\n",
            " 7    Pre-tax net Interest Rate                                6819 non-null   float64\n",
            " 8    After-tax net Interest Rate                              6819 non-null   float64\n",
            " 9    Non-industry income and expenditure/revenue              6819 non-null   float64\n",
            " 10   Continuous interest rate (after tax)                     6819 non-null   float64\n",
            " 11   Operating Expense Rate                                   6819 non-null   float64\n",
            " 12   Research and development expense rate                    6819 non-null   float64\n",
            " 13   Cash flow rate                                           6819 non-null   float64\n",
            " 14   Interest-bearing debt interest rate                      6819 non-null   float64\n",
            " 15   Tax rate (A)                                             6819 non-null   float64\n",
            " 16   Net Value Per Share (B)                                  6819 non-null   float64\n",
            " 17   Net Value Per Share (A)                                  6819 non-null   float64\n",
            " 18   Net Value Per Share (C)                                  6819 non-null   float64\n",
            " 19   Persistent EPS in the Last Four Seasons                  6819 non-null   float64\n",
            " 20   Cash Flow Per Share                                      6819 non-null   float64\n",
            " 21   Revenue Per Share (Yuan ¥)                               6819 non-null   float64\n",
            " 22   Operating Profit Per Share (Yuan ¥)                      6819 non-null   float64\n",
            " 23   Per Share Net profit before tax (Yuan ¥)                 6819 non-null   float64\n",
            " 24   Realized Sales Gross Profit Growth Rate                  6819 non-null   float64\n",
            " 25   Operating Profit Growth Rate                             6819 non-null   float64\n",
            " 26   After-tax Net Profit Growth Rate                         6819 non-null   float64\n",
            " 27   Regular Net Profit Growth Rate                           6819 non-null   float64\n",
            " 28   Continuous Net Profit Growth Rate                        6819 non-null   float64\n",
            " 29   Total Asset Growth Rate                                  6819 non-null   float64\n",
            " 30   Net Value Growth Rate                                    6819 non-null   float64\n",
            " 31   Total Asset Return Growth Rate Ratio                     6819 non-null   float64\n",
            " 32   Cash Reinvestment %                                      6819 non-null   float64\n",
            " 33   Current Ratio                                            6819 non-null   float64\n",
            " 34   Quick Ratio                                              6819 non-null   float64\n",
            " 35   Interest Expense Ratio                                   6819 non-null   float64\n",
            " 36   Total debt/Total net worth                               6819 non-null   float64\n",
            " 37   Debt ratio %                                             6819 non-null   float64\n",
            " 38   Net worth/Assets                                         6819 non-null   float64\n",
            " 39   Long-term fund suitability ratio (A)                     6819 non-null   float64\n",
            " 40   Borrowing dependency                                     6819 non-null   float64\n",
            " 41   Contingent liabilities/Net worth                         6819 non-null   float64\n",
            " 42   Operating profit/Paid-in capital                         6819 non-null   float64\n",
            " 43   Net profit before tax/Paid-in capital                    6819 non-null   float64\n",
            " 44   Inventory and accounts receivable/Net value              6819 non-null   float64\n",
            " 45   Total Asset Turnover                                     6819 non-null   float64\n",
            " 46   Accounts Receivable Turnover                             6819 non-null   float64\n",
            " 47   Average Collection Days                                  6819 non-null   float64\n",
            " 48   Inventory Turnover Rate (times)                          6819 non-null   float64\n",
            " 49   Fixed Assets Turnover Frequency                          6819 non-null   float64\n",
            " 50   Net Worth Turnover Rate (times)                          6819 non-null   float64\n",
            " 51   Revenue per person                                       6819 non-null   float64\n",
            " 52   Operating profit per person                              6819 non-null   float64\n",
            " 53   Allocation rate per person                               6819 non-null   float64\n",
            " 54   Working Capital to Total Assets                          6819 non-null   float64\n",
            " 55   Quick Assets/Total Assets                                6819 non-null   float64\n",
            " 56   Current Assets/Total Assets                              6819 non-null   float64\n",
            " 57   Cash/Total Assets                                        6819 non-null   float64\n",
            " 58   Quick Assets/Current Liability                           6819 non-null   float64\n",
            " 59   Cash/Current Liability                                   6819 non-null   float64\n",
            " 60   Current Liability to Assets                              6819 non-null   float64\n",
            " 61   Operating Funds to Liability                             6819 non-null   float64\n",
            " 62   Inventory/Working Capital                                6819 non-null   float64\n",
            " 63   Inventory/Current Liability                              6819 non-null   float64\n",
            " 64   Current Liabilities/Liability                            6819 non-null   float64\n",
            " 65   Working Capital/Equity                                   6819 non-null   float64\n",
            " 66   Current Liabilities/Equity                               6819 non-null   float64\n",
            " 67   Long-term Liability to Current Assets                    6819 non-null   float64\n",
            " 68   Retained Earnings to Total Assets                        6819 non-null   float64\n",
            " 69   Total income/Total expense                               6819 non-null   float64\n",
            " 70   Total expense/Assets                                     6819 non-null   float64\n",
            " 71   Current Asset Turnover Rate                              6819 non-null   float64\n",
            " 72   Quick Asset Turnover Rate                                6819 non-null   float64\n",
            " 73   Working capitcal Turnover Rate                           6819 non-null   float64\n",
            " 74   Cash Turnover Rate                                       6819 non-null   float64\n",
            " 75   Cash Flow to Sales                                       6819 non-null   float64\n",
            " 76   Fixed Assets to Assets                                   6819 non-null   float64\n",
            " 77   Current Liability to Liability                           6819 non-null   float64\n",
            " 78   Current Liability to Equity                              6819 non-null   float64\n",
            " 79   Equity to Long-term Liability                            6819 non-null   float64\n",
            " 80   Cash Flow to Total Assets                                6819 non-null   float64\n",
            " 81   Cash Flow to Liability                                   6819 non-null   float64\n",
            " 82   CFO to Assets                                            6819 non-null   float64\n",
            " 83   Cash Flow to Equity                                      6819 non-null   float64\n",
            " 84   Current Liability to Current Assets                      6819 non-null   float64\n",
            " 85   Liability-Assets Flag                                    6819 non-null   int64  \n",
            " 86   Net Income to Total Assets                               6819 non-null   float64\n",
            " 87   Total assets to GNP price                                6819 non-null   float64\n",
            " 88   No-credit Interval                                       6819 non-null   float64\n",
            " 89   Gross Profit to Sales                                    6819 non-null   float64\n",
            " 90   Net Income to Stockholder's Equity                       6819 non-null   float64\n",
            " 91   Liability to Equity                                      6819 non-null   float64\n",
            " 92   Degree of Financial Leverage (DFL)                       6819 non-null   float64\n",
            " 93   Interest Coverage Ratio (Interest expense to EBIT)       6819 non-null   float64\n",
            " 94   Net Income Flag                                          6819 non-null   int64  \n",
            " 95   Equity to Liability                                      6819 non-null   float64\n",
            "dtypes: float64(93), int64(3)\n",
            "memory usage: 5.0 MB\n"
          ]
        },
        {
          "data": {
            "text/plain": [
              "None"
            ]
          },
          "metadata": {},
          "output_type": "display_data"
        }
      ],
      "source": [
        "# Check data types and missing values for each dataset\n",
        "display(heart_data.info())\n",
        "display(footballer_data.info())\n",
        "display(bankrupt_data.info())\n"
      ]
    },
    {
      "cell_type": "code",
      "execution_count": 31,
      "metadata": {
        "colab": {
          "base_uri": "https://localhost:8080/"
        },
        "id": "zDOSV85Q8hEu",
        "outputId": "4fb38813-bd92-4077-9690-3a97b233a997"
      },
      "outputs": [
        {
          "name": "stdout",
          "output_type": "stream",
          "text": [
            "Heart Failure Dataset Columns:\n",
            "['age', 'anaemia', 'creatinine_phosphokinase', 'diabetes', 'ejection_fraction', 'high_blood_pressure', 'platelets', 'serum_creatinine', 'serum_sodium', 'sex', 'smoking', 'time', 'DEATH_EVENT']\n",
            "\n",
            "Fake Job Posting Dataset Columns:\n",
            "['job_id', 'title', 'location', 'department', 'salary_range', 'company_profile', 'description', 'requirements', 'benefits', 'telecommuting', 'has_company_logo', 'has_questions', 'employment_type', 'required_experience', 'required_education', 'industry', 'function', 'fraudulent']\n",
            "\n",
            "Footballer Price Dataset Columns:\n",
            "['AveragePlayerAge', 'TotalGoalsLastSeason', 'MatchesWonLastSeason', 'MatchesDrawnLastSeason', 'MatchesLostLastSeason', 'TotalGoalsConcededLastSeason', 'TotalRevenueLastSeason', 'StadiumCapacity', 'AverageAttendance', 'TransferSpendingLastSeason', 'TransferIncomeLastSeason', 'NumberOfTrophies', 'MarketValueOfSquad', 'AveragePlayerMarketValue', 'YouthAcademyRating', 'League', 'Country', 'Manager', 'TeamFormation', 'PlayingStyle', 'HomeCity', 'StadiumType', 'MainSponsor', 'KitManufacturer', 'OwnershipType', 'Price']\n",
            "\n",
            "Loan Default Dataset Columns:\n",
            "['ID', 'Loan Amount', 'Funded Amount', 'Funded Amount Investor', 'Term', 'Batch Enrolled', 'Interest Rate', 'Grade', 'Sub Grade', 'Employment Duration', 'Home Ownership', 'Verification Status', 'Payment Plan', 'Loan Title', 'Debit to Income', 'Delinquency - two years', 'Inquires - six months', 'Open Account', 'Public Record', 'Revolving Balance', 'Revolving Utilities', 'Total Accounts', 'Initial List Status', 'Total Received Interest', 'Total Received Late Fee', 'Recoveries', 'Collection Recovery Fee', 'Collection 12 months Medical', 'Application Type', 'Last week Pay', 'Accounts Delinquent', 'Total Collection Amount', 'Total Current Balance', 'Total Revolving Credit Limit', 'Loan Status']\n",
            "\n",
            "Bankruptcy Prediction Dataset Columns:\n",
            "['Bankrupt?', ' ROA(C) before interest and depreciation before interest', ' ROA(A) before interest and % after tax', ' ROA(B) before interest and depreciation after tax', ' Operating Gross Margin', ' Realized Sales Gross Margin', ' Operating Profit Rate', ' Pre-tax net Interest Rate', ' After-tax net Interest Rate', ' Non-industry income and expenditure/revenue', ' Continuous interest rate (after tax)', ' Operating Expense Rate', ' Research and development expense rate', ' Cash flow rate', ' Interest-bearing debt interest rate', ' Tax rate (A)', ' Net Value Per Share (B)', ' Net Value Per Share (A)', ' Net Value Per Share (C)', ' Persistent EPS in the Last Four Seasons', ' Cash Flow Per Share', ' Revenue Per Share (Yuan ¥)', ' Operating Profit Per Share (Yuan ¥)', ' Per Share Net profit before tax (Yuan ¥)', ' Realized Sales Gross Profit Growth Rate', ' Operating Profit Growth Rate', ' After-tax Net Profit Growth Rate', ' Regular Net Profit Growth Rate', ' Continuous Net Profit Growth Rate', ' Total Asset Growth Rate', ' Net Value Growth Rate', ' Total Asset Return Growth Rate Ratio', ' Cash Reinvestment %', ' Current Ratio', ' Quick Ratio', ' Interest Expense Ratio', ' Total debt/Total net worth', ' Debt ratio %', ' Net worth/Assets', ' Long-term fund suitability ratio (A)', ' Borrowing dependency', ' Contingent liabilities/Net worth', ' Operating profit/Paid-in capital', ' Net profit before tax/Paid-in capital', ' Inventory and accounts receivable/Net value', ' Total Asset Turnover', ' Accounts Receivable Turnover', ' Average Collection Days', ' Inventory Turnover Rate (times)', ' Fixed Assets Turnover Frequency', ' Net Worth Turnover Rate (times)', ' Revenue per person', ' Operating profit per person', ' Allocation rate per person', ' Working Capital to Total Assets', ' Quick Assets/Total Assets', ' Current Assets/Total Assets', ' Cash/Total Assets', ' Quick Assets/Current Liability', ' Cash/Current Liability', ' Current Liability to Assets', ' Operating Funds to Liability', ' Inventory/Working Capital', ' Inventory/Current Liability', ' Current Liabilities/Liability', ' Working Capital/Equity', ' Current Liabilities/Equity', ' Long-term Liability to Current Assets', ' Retained Earnings to Total Assets', ' Total income/Total expense', ' Total expense/Assets', ' Current Asset Turnover Rate', ' Quick Asset Turnover Rate', ' Working capitcal Turnover Rate', ' Cash Turnover Rate', ' Cash Flow to Sales', ' Fixed Assets to Assets', ' Current Liability to Liability', ' Current Liability to Equity', ' Equity to Long-term Liability', ' Cash Flow to Total Assets', ' Cash Flow to Liability', ' CFO to Assets', ' Cash Flow to Equity', ' Current Liability to Current Assets', ' Liability-Assets Flag', ' Net Income to Total Assets', ' Total assets to GNP price', ' No-credit Interval', ' Gross Profit to Sales', \" Net Income to Stockholder's Equity\", ' Liability to Equity', ' Degree of Financial Leverage (DFL)', ' Interest Coverage Ratio (Interest expense to EBIT)', ' Net Income Flag', ' Equity to Liability']\n"
          ]
        }
      ],
      "source": [
        "# prompt: write me a code that prints the column names for the datasets above\n",
        "\n",
        "print(\"Heart Failure Dataset Columns:\")\n",
        "print(heart_data.columns.tolist())\n",
        "print(\"\\nFake Job Posting Dataset Columns:\")\n",
        "print(job_data.columns.tolist())\n",
        "print(\"\\nFootballer Price Dataset Columns:\")\n",
        "print(footballer_data.columns.tolist())\n",
        "print(\"\\nLoan Default Dataset Columns:\")\n",
        "print(loan_data.columns.tolist())\n",
        "print(\"\\nBankruptcy Prediction Dataset Columns:\")\n",
        "print(bankrupt_data.columns.tolist())"
      ]
    },
    {
      "cell_type": "code",
      "execution_count": 7,
      "metadata": {
        "id": "kOCta9N7f7_E"
      },
      "outputs": [],
      "source": [
        "from sklearn.model_selection import train_test_split\n",
        "from sklearn.metrics import accuracy_score\n",
        "\n",
        "def fitness(chromosome, model, X, y):\n",
        "    # Select features based on the chromosome\n",
        "    selected_features = np.where(chromosome == 1)[0]\n",
        "\n",
        "    if len(selected_features) == 0:\n",
        "        # Return a very low fitness score if no features are selected\n",
        "        return 0.0\n",
        "\n",
        "    # Subset the dataset using selected features\n",
        "    X_selected = X[:, selected_features]\n",
        "\n",
        "    # Split data into training and testing sets\n",
        "    X_train, X_test, y_train, y_test = train_test_split(X_selected, y, test_size=0.2, random_state=42)\n",
        "\n",
        "    try:\n",
        "        # Train the model\n",
        "        model.fit(X_train, y_train)\n",
        "\n",
        "        # Predict on the test set\n",
        "        y_pred = model.predict(X_test)\n",
        "\n",
        "        # Calculate and return accuracy\n",
        "        fitness = accuracy_score(y_test, y_pred)\n",
        "        return fitness\n",
        "    except Exception as e:\n",
        "        print(f\"Error during model training or prediction: {e}\")\n",
        "        return 0.0\n"
      ]
    },
    {
      "cell_type": "markdown",
      "metadata": {},
      "source": [
        "## Parent Selection Types"
      ]
    },
    {
      "cell_type": "code",
      "execution_count": 8,
      "metadata": {},
      "outputs": [],
      "source": [
        "def rank_based_selection(fitness_values, num_parents):\n",
        "    sorted_indices = np.argsort(fitness_values)\n",
        "    ranks = np.arange(1, len(fitness_values) + 1)\n",
        "    total_rank = np.sum(ranks)\n",
        "    probabilities = ranks / total_rank\n",
        "    selected_parents = np.random.choice(sorted_indices, size=num_parents, p=probabilities)\n",
        "    return selected_parents"
      ]
    },
    {
      "cell_type": "code",
      "execution_count": 9,
      "metadata": {},
      "outputs": [],
      "source": [
        "def tournament_selection(fitness_values, num_parents=2, tournament_size=3):\n",
        "    \"\"\"\n",
        "    Perform tournament selection to choose parents for crossover.\n",
        "\n",
        "    Args:\n",
        "        fitness_values (numpy.ndarray): Array of fitness values for the population.\n",
        "        num_parents (int): Number of parents to select.\n",
        "        tournament_size (int): Number of individuals to compete in each tournament.\n",
        "\n",
        "    Returns:\n",
        "        numpy.ndarray: Indices of the selected parents.\n",
        "    \"\"\"\n",
        "    selected_parents = []  # Initialize an empty list to store the indices of selected parents\n",
        "\n",
        "    for _ in range(num_parents):\n",
        "        # Randomly select 'tournament_size' individuals from the population\n",
        "        tournament_indices = np.random.choice(len(fitness_values), size=tournament_size, replace=False)\n",
        "        \n",
        "        # Get the fitness values of the selected individuals\n",
        "        tournament_fitness = fitness_values[tournament_indices]\n",
        "        \n",
        "        # Find the index of the individual with the highest fitness in the tournament\n",
        "        winner_index = tournament_indices[np.argmax(tournament_fitness)]\n",
        "        \n",
        "        # Add the index of the winner to the list of selected parents\n",
        "        selected_parents.append(winner_index)\n",
        "    \n",
        "    return np.array(selected_parents)  # Convert the list to a numpy array and return it"
      ]
    },
    {
      "cell_type": "code",
      "execution_count": 10,
      "metadata": {
        "id": "c5XamAM0f7_E"
      },
      "outputs": [],
      "source": [
        "def roulette_wheel_selection(fitness_values, num_parents):\n",
        "    total_fitness = np.sum(fitness_values)\n",
        "    probabilities = fitness_values / total_fitness\n",
        "    selected_parents = np.random.choice(len(fitness_values), size=num_parents, p=probabilities)\n",
        "    return selected_parents"
      ]
    },
    {
      "cell_type": "markdown",
      "metadata": {},
      "source": [
        "## Crossover and Mutation Functions"
      ]
    },
    {
      "cell_type": "code",
      "execution_count": 11,
      "metadata": {
        "id": "U179UOb9f7_F"
      },
      "outputs": [],
      "source": [
        "def crossover(population, parents, crossover_rate, dimensions): #single-point crossover\n",
        "    if np.random.rand() < crossover_rate:\n",
        "        point = np.random.randint(1, dimensions)\n",
        "        child1 = np.concatenate((population[parents[0], :point], population[parents[1], point:]))\n",
        "        child2 = np.concatenate((population[parents[1], :point], population[parents[0], point:]))\n",
        "        return child1, child2\n",
        "    else:\n",
        "        return population[parents[0]], population[parents[1]]"
      ]
    },
    {
      "cell_type": "code",
      "execution_count": 12,
      "metadata": {
        "id": "9MEbyj0Df7_F"
      },
      "outputs": [],
      "source": [
        "def bitFlip_mutation(chromosome, mutation_rate): #bit flip mutation\n",
        "    for i in range(len(chromosome)):\n",
        "        if np.random.rand() < mutation_rate:\n",
        "            chromosome[i] = 1 - chromosome[i]\n",
        "    return chromosome"
      ]
    },
    {
      "cell_type": "markdown",
      "metadata": {},
      "source": [
        "## Evolutionary Computation Algorithms"
      ]
    },
    {
      "cell_type": "code",
      "execution_count": 23,
      "metadata": {},
      "outputs": [],
      "source": [
        "def genetic_algorithm(dataset, model, dimension, population_size, generations, mutation_rate, crossover_rate):\n",
        "    pop = np.random.randint(0, 2, size=(population_size, dimension))\n",
        "    X = dataset.iloc[:, 1:].values  # All columns except the last one\n",
        "    y = dataset.iloc[:, 0].values\n",
        "    fitness_values = [fitness(chromosome, model, X, y) for chromosome in pop]\n",
        "    \n",
        "    # Finding the Best\n",
        "    max_fitness = np.max(fitness_values)  # Find the maximum fitness value\n",
        "    best_chromosomes = [chromosome for chromosome, fitness in zip(pop, fitness_values) if fitness == max_fitness]  # Get all chromosomes with max fitness\n",
        "\n",
        "    # If multiple chromosomes have the same max fitness, choose the one with the fewest 1s\n",
        "    if len(best_chromosomes) > 1:\n",
        "        best_chromosome = min(best_chromosomes, key=lambda chromosome: np.sum(chromosome))  # Select chromosome with fewest 1s\n",
        "    else:\n",
        "        best_chromosome = best_chromosomes[0]  # If only one, select it directly\n",
        "\n",
        "    best_fitness = max_fitness  # Assign the max fitness value\n",
        "\n",
        "    fitness_stats = {\n",
        "        \"mean\": [],\n",
        "        \"std\": [],\n",
        "        \"best\": [],\n",
        "        \"worst\": []\n",
        "    }\n",
        "\n",
        "    print(f\"generation:{0}, best fitness: {best_fitness}, best chromosome: {best_chromosome}\")\n",
        "    for gen in range(1, generations):\n",
        "        pop_new = np.zeros((len(pop), dimension), dtype=int)\n",
        "        for i in range(len(pop) // 2):\n",
        "            parents = roulette_wheel_selection(fitness_values, len(pop))\n",
        "            child1, child2 = crossover(pop, parents, crossover_rate, dimension)\n",
        "            pop_new[i*2] = bitFlip_mutation(child1, mutation_rate)\n",
        "            pop_new[i*2 + 1] = bitFlip_mutation(child2, mutation_rate)\n",
        "        pop = pop_new\n",
        "        fitness_values = [fitness(chromosome, model, X, y) for chromosome in pop]\n",
        "\n",
        "        max_idx = np.argmax(fitness_values)\n",
        "        max_fitness = np.max(fitness_values)\n",
        "        if fitness_values[max_idx] > best_fitness:\n",
        "            best_chromosomes = [chromosome for chromosome, fitness in zip(pop, fitness_values) if fitness == max_fitness]  # Get all chromosomes with max fitness\n",
        "\n",
        "            # If multiple chromosomes have the same max fitness, choose the one with the fewest 1s\n",
        "            if len(best_chromosomes) > 1:\n",
        "                best_chromosome = min(best_chromosomes, key=lambda chromosome: np.sum(chromosome))  # Select chromosome with fewest 1s\n",
        "            else:\n",
        "                best_chromosome = best_chromosomes[0]  # If only one, select it directly\n",
        "            best_fitness = fitness_values[max_idx]\n",
        "\n",
        "        if gen == generations - 1:\n",
        "            mean_fitness = np.mean(fitness_values)\n",
        "            std_fitness = np.std(fitness_values)\n",
        "            best_fitness_gen = np.max(fitness_values)\n",
        "            worst_fitness_gen = np.min(fitness_values)\n",
        "\n",
        "            fitness_stats[\"mean\"].append(mean_fitness)\n",
        "            fitness_stats[\"std\"].append(std_fitness)\n",
        "            fitness_stats[\"best\"].append(best_fitness_gen)\n",
        "            fitness_stats[\"worst\"].append(worst_fitness_gen)\n",
        "\n",
        "        print(f\"generation:{gen}, best fitness: {best_fitness}, best chromosome: {best_chromosome}\")\n",
        "    \n",
        "    # Get the best and worst chromosomes and their fitness values in the last generation\n",
        "    worst_chromosome = pop[np.argmin(fitness_values)]\n",
        "    worst_fitness = np.min(fitness_values)\n",
        "\n",
        "    return best_chromosome, best_fitness, mean_fitness, std_fitness, worst_chromosome, worst_fitness\n"
      ]
    },
    {
      "cell_type": "code",
      "execution_count": 14,
      "metadata": {
        "id": "wrqIRlx4Beke"
      },
      "outputs": [],
      "source": [
        "# Differential Evolution for Binary Representation\n",
        "def differential_evolution(dataset, model, dimension, population_size, generations, F, crossover_rate):\n",
        "    \"\"\"\n",
        "    Args:\n",
        "        X: Feature matrix.\n",
        "        y: Target vector.\n",
        "        model: Machine learning model to evaluate fitness.\n",
        "        dimension: Number of features (dimensions).\n",
        "        population_size: Number of individuals in the population.\n",
        "        generations: Number of generations.\n",
        "        F: Differential weight. [0, 2]\n",
        "        crossover_rate: Crossover probability.\n",
        "    Returns:\n",
        "        best_solution: Best chromosome found.\n",
        "        best_fitness: Fitness of the best chromosome.\n",
        "    \"\"\"\n",
        "    # Initialize population with binary representation\n",
        "    population = np.random.randint(0, 2, size=(population_size, dimension))\n",
        "\n",
        "    X = dataset.iloc[:, :-1].values  # All columns except the last one\n",
        "    y = dataset.iloc[:, -1].values\n",
        "\n",
        "    fitness_values = np.array([fitness(ind, model, X, y) for ind in population])\n",
        "    best_idx = np.argmax(fitness_values)\n",
        "    best_solution = population[best_idx]\n",
        "    best_fitness = fitness_values[best_idx]\n",
        "\n",
        "    for gen in range(generations):\n",
        "        for i in range(population_size):\n",
        "            # Select three random indices r1, r2, r3 (distinct from each other and i)\n",
        "            indices = list(range(population_size))\n",
        "            indices.remove(i)\n",
        "            r1, r2, r3 = np.random.choice(indices, 3, replace=False)\n",
        "\n",
        "            # Mutation: Generate mutant vector\n",
        "            mutant = np.copy(population[r1])\n",
        "            for d in range(dimension):\n",
        "                if np.random.rand() < F:\n",
        "                    mutant[d] = population[r2][d] ^ population[r3][d]  # XOR mutation\n",
        "\n",
        "            # Crossover: Create trial vector\n",
        "            trial = np.copy(population[i])\n",
        "            for d in range(dimension):\n",
        "                if np.random.rand() < crossover_rate:\n",
        "                    trial[d] = mutant[d]\n",
        "\n",
        "            # Calculate fitness of trial vector\n",
        "            trial_fitness = fitness(trial, model, X, y)\n",
        "\n",
        "            # Selection: Replace if trial vector is better\n",
        "            if trial_fitness > fitness_values[i]:\n",
        "                population[i] = trial\n",
        "                fitness_values[i] = trial_fitness\n",
        "\n",
        "                # Update global best\n",
        "                if trial_fitness > best_fitness:\n",
        "                    best_solution = trial\n",
        "                    best_fitness = trial_fitness\n",
        "\n",
        "        print(f\"Generation {gen + 1}: Best Fitness = {best_fitness}: Best Solution = {best_solution}\")\n",
        "\n",
        "    return best_solution, best_fitness"
      ]
    },
    {
      "cell_type": "code",
      "execution_count": 15,
      "metadata": {
        "id": "b2jTJQrEf7_G"
      },
      "outputs": [],
      "source": [
        "def evolution_strategy(dataset, model, dimension, population_size, generations, mutation_rate):\n",
        "    \"\"\"\n",
        "    Evolution Strategy algorithm for feature selection.\n",
        "\n",
        "    Args:\n",
        "        dataset: Pandas DataFrame containing the dataset.\n",
        "        model: Machine learning model to evaluate fitness.\n",
        "        dimension: Number of features.\n",
        "        population_size: Population size.\n",
        "        generations: Number of generations.\n",
        "        mutation_rate: Mutation rate.\n",
        "\n",
        "    Returns:\n",
        "        tuple: Best chromosome and its fitness.\n",
        "    \"\"\"\n",
        "\n",
        "    # Initialize population with binary representation\n",
        "    population = np.random.randint(0, 2, size=(population_size, dimension))\n",
        "    X = dataset.iloc[:, :-1].values\n",
        "    y = dataset.iloc[:, -1].values\n",
        "\n",
        "    # Evaluate initial population fitness\n",
        "    fitness_values = np.array([fitness(ind, model, X, y) for ind in population])\n",
        "\n",
        "    best_idx = np.argmax(fitness_values)\n",
        "    best_solution = population[best_idx]\n",
        "    best_fitness = fitness_values[best_idx]\n",
        "\n",
        "    for generation in range(generations):\n",
        "        for i in range(population_size):\n",
        "            # Create offspring by mutating the parent using bitFlip_mutation\n",
        "            offspring = bitFlip_mutation(np.copy(population[i]), mutation_rate) \n",
        "\n",
        "            # Evaluate fitness of offspring\n",
        "            offspring_fitness = fitness(offspring, model, X, y)\n",
        "\n",
        "            # Select the best between parent and offspring\n",
        "            if offspring_fitness > fitness_values[i]:\n",
        "                population[i] = offspring\n",
        "                fitness_values[i] = offspring_fitness\n",
        "                if offspring_fitness > best_fitness:\n",
        "                    best_solution = offspring\n",
        "                    best_fitness = offspring_fitness\n",
        "        print(f\"Generation {generation + 1}: Best Fitness = {best_fitness}: Best Solution = {best_solution}\")\n",
        "\n",
        "    return best_solution, best_fitness"
      ]
    },
    {
      "cell_type": "markdown",
      "metadata": {},
      "source": [
        "## Run the Program"
      ]
    },
    {
      "cell_type": "code",
      "execution_count": 16,
      "metadata": {
        "id": "z5d3kdEXf7_G"
      },
      "outputs": [],
      "source": [
        "#Algorithms : GA, DE, ES\n",
        "#Datasets: heart_data(13 dimension), job_data(18 dimension), footballer_data(26 dimension)\n",
        "#          loan_data(35 dimension), bankrupt_data(96 dimension)\n",
        "def evolution(algorithm, dataset, model, pop_size, gens = 10, mut_rate = 0.01, cross_rate = 0.9, F=0.8):\n",
        "\n",
        "    dimension = len(dataset.columns) - 1  # The label for the row (last column is not a feature!)\n",
        "    population_size = pop_size\n",
        "    generations = gens\n",
        "    mutation_rate = mut_rate\n",
        "    crossover_rate = cross_rate\n",
        "    F = F\n",
        "\n",
        "    if algorithm == \"GA\":\n",
        "        best_chromosome, best_fitness, mean_fitness, std_fitness, worst_chromosome, worst_fitness = genetic_algorithm(dataset, model, dimension, population_size, generations, mutation_rate, crossover_rate)\n",
        "        return best_chromosome, best_fitness, mean_fitness, std_fitness, worst_chromosome, worst_fitness\n",
        "    elif algorithm == \"DE\":\n",
        "        print(\"Running Differential Evolution...\")\n",
        "        # def differential_evolution(dataset, model, dimension, population_size, generations, F, crossover_rate):\n",
        "        differential_evolution(dataset=dataset, model=model, dimension=dimension, population_size=population_size, generations=generations, F=F, crossover_rate=crossover_rate)\n",
        "    elif algorithm == \"ES\":\n",
        "        print(\"Running Evolution Strategy...\")\n",
        "        evolution_strategy(dataset, model, dimension, population_size, generations, mutation_rate)"
      ]
    },
    {
      "cell_type": "code",
      "execution_count": 78,
      "metadata": {},
      "outputs": [
        {
          "name": "stdout",
          "output_type": "stream",
          "text": [
            "generation:0, best fitness: 0.7833333333333333, best chromosome: [0 0 0 1 0 1 1 0 0 0 1 1]\n",
            "generation:1, best fitness: 0.8, best chromosome: [1 1 0 1 1 1 0 1 1 0 1 1]\n",
            "generation:2, best fitness: 0.8, best chromosome: [1 1 0 1 1 1 0 1 1 0 1 1]\n",
            "Best Chromosome: [1 1 0 1 1 1 0 1 1 0 1 1]\n",
            "Best Fitness: 0.8\n",
            "Mean Fitness: 0.6630000000000001\n",
            "Standard Deviation of Fitness: 0.06593683846429602\n",
            "Worst Chromosome: [0 1 0 1 0 0 1 0 0 1 0 0]\n",
            "Worst Fitness: 0.48333333333333334\n"
          ]
        }
      ],
      "source": [
        "from sklearn.ensemble import RandomForestClassifier\n",
        "\n",
        "# Define the parameters\n",
        "algorithm = \"GA\"\n",
        "dataset = heart_data\n",
        "model = RandomForestClassifier()\n",
        "pop_size = 50\n",
        "gens = 3\n",
        "mut_rate = 0.1\n",
        "cross_rate = 0.75\n",
        "\n",
        "# Run the genetic algorithm\n",
        "best_chromosome, best_fitness, mean_fitness, std_fitness, worst_chromosome, worst_fitness = genetic_algorithm(\n",
        "    dataset=dataset,\n",
        "    model=model,\n",
        "    dimension=len(dataset.columns) - 1,\n",
        "    population_size=pop_size,\n",
        "    generations=gens,\n",
        "    mutation_rate=mut_rate,\n",
        "    crossover_rate=cross_rate\n",
        ")\n",
        "\n",
        "# Print the results\n",
        "print(\"Best Chromosome:\", best_chromosome)\n",
        "print(\"Best Fitness:\", best_fitness)\n",
        "print(\"Mean Fitness:\", mean_fitness)\n",
        "print(\"Standard Deviation of Fitness:\", std_fitness)\n",
        "print(\"Worst Chromosome:\", worst_chromosome)\n",
        "print(\"Worst Fitness:\", worst_fitness)"
      ]
    },
    {
      "cell_type": "code",
      "execution_count": 84,
      "metadata": {
        "colab": {
          "base_uri": "https://localhost:8080/"
        },
        "id": "3LBqIIw8ALea",
        "outputId": "05eb9911-ec26-40bc-caf2-ca6ed6e2bef8"
      },
      "outputs": [
        {
          "name": "stdout",
          "output_type": "stream",
          "text": [
            "Running Genetic Algorithm on heart data.\n",
            "Model=RandomForestClassifier()\n",
            "Run: 1\n",
            "Population Size: 50, Mutation Rate: 0.1, Crossover Rate: 0.6\n",
            "generation:0, best fitness: 0.8, best chromosome: [0 0 0 0 1 0 1 0 1 0 0 1]\n",
            "generation:1, best fitness: 0.8, best chromosome: [0 0 0 0 1 0 1 0 1 0 0 1]\n",
            "generation:2, best fitness: 0.8, best chromosome: [0 0 0 0 1 0 1 0 1 0 0 1]\n",
            "best_fitness: 0.8 best_chromosome: [0 0 0 0 1 0 1 0 1 0 0 1]\n",
            "Run: 2\n",
            "Population Size: 50, Mutation Rate: 0.1, Crossover Rate: 0.75\n",
            "generation:0, best fitness: 0.8166666666666667, best chromosome: [0 0 0 0 1 0 0 0 1 0 0 1]\n",
            "generation:1, best fitness: 0.8166666666666667, best chromosome: [0 0 0 0 1 0 0 0 1 0 0 1]\n",
            "generation:2, best fitness: 0.8166666666666667, best chromosome: [0 0 0 0 1 0 0 0 1 0 0 1]\n",
            "best_fitness: 0.8166666666666667 best_chromosome: [0 0 0 0 1 0 0 0 1 0 0 1]\n",
            "Run: 3\n",
            "Population Size: 50, Mutation Rate: 0.1, Crossover Rate: 0.9\n",
            "generation:0, best fitness: 0.8, best chromosome: [1 0 0 0 1 1 0 1 0 1 0 1]\n",
            "generation:1, best fitness: 0.8, best chromosome: [1 0 0 0 1 1 0 1 0 1 0 1]\n",
            "generation:2, best fitness: 0.8, best chromosome: [1 0 0 0 1 1 0 1 0 1 0 1]\n",
            "best_fitness: 0.8 best_chromosome: [1 0 0 0 1 1 0 1 0 1 0 1]\n"
          ]
        },
        {
          "data": {
            "text/html": [
              "<div>\n",
              "<style scoped>\n",
              "    .dataframe tbody tr th:only-of-type {\n",
              "        vertical-align: middle;\n",
              "    }\n",
              "\n",
              "    .dataframe tbody tr th {\n",
              "        vertical-align: top;\n",
              "    }\n",
              "\n",
              "    .dataframe thead th {\n",
              "        text-align: right;\n",
              "    }\n",
              "</style>\n",
              "<table border=\"1\" class=\"dataframe\">\n",
              "  <thead>\n",
              "    <tr style=\"text-align: right;\">\n",
              "      <th></th>\n",
              "      <th>Best Chromosome</th>\n",
              "      <th>Best Fitness</th>\n",
              "      <th>Mean Fitness</th>\n",
              "      <th>Std Fitness</th>\n",
              "      <th>Worst Chromosome</th>\n",
              "      <th>Worst Fitness</th>\n",
              "    </tr>\n",
              "  </thead>\n",
              "  <tbody>\n",
              "    <tr>\n",
              "      <th>0</th>\n",
              "      <td>[0, 0, 0, 0, 1, 0, 1, 0, 1, 0, 0, 1]</td>\n",
              "      <td>0.800000</td>\n",
              "      <td>0.690333</td>\n",
              "      <td>0.064212</td>\n",
              "      <td>[0, 0, 1, 0, 0, 0, 1, 0, 1, 0, 1, 0]</td>\n",
              "      <td>0.533333</td>\n",
              "    </tr>\n",
              "    <tr>\n",
              "      <th>1</th>\n",
              "      <td>[0, 0, 0, 0, 1, 0, 0, 0, 1, 0, 0, 1]</td>\n",
              "      <td>0.816667</td>\n",
              "      <td>0.691667</td>\n",
              "      <td>0.050028</td>\n",
              "      <td>[0, 0, 1, 0, 1, 1, 1, 0, 0, 1, 0, 0]</td>\n",
              "      <td>0.566667</td>\n",
              "    </tr>\n",
              "    <tr>\n",
              "      <th>2</th>\n",
              "      <td>[1, 0, 0, 0, 1, 1, 0, 1, 0, 1, 0, 1]</td>\n",
              "      <td>0.800000</td>\n",
              "      <td>0.663333</td>\n",
              "      <td>0.064377</td>\n",
              "      <td>[1, 0, 0, 1, 0, 1, 1, 0, 0, 1, 0, 0]</td>\n",
              "      <td>0.533333</td>\n",
              "    </tr>\n",
              "  </tbody>\n",
              "</table>\n",
              "</div>"
            ],
            "text/plain": [
              "                        Best Chromosome  Best Fitness  Mean Fitness  \\\n",
              "0  [0, 0, 0, 0, 1, 0, 1, 0, 1, 0, 0, 1]      0.800000      0.690333   \n",
              "1  [0, 0, 0, 0, 1, 0, 0, 0, 1, 0, 0, 1]      0.816667      0.691667   \n",
              "2  [1, 0, 0, 0, 1, 1, 0, 1, 0, 1, 0, 1]      0.800000      0.663333   \n",
              "\n",
              "   Std Fitness                      Worst Chromosome  Worst Fitness  \n",
              "0     0.064212  [0, 0, 1, 0, 0, 0, 1, 0, 1, 0, 1, 0]       0.533333  \n",
              "1     0.050028  [0, 0, 1, 0, 1, 1, 1, 0, 0, 1, 0, 0]       0.566667  \n",
              "2     0.064377  [1, 0, 0, 1, 0, 1, 1, 0, 0, 1, 0, 0]       0.533333  "
            ]
          },
          "metadata": {},
          "output_type": "display_data"
        }
      ],
      "source": [
        "from sklearn.ensemble import RandomForestClassifier\n",
        "\n",
        "gen_alg = \"GA\"\n",
        "diff_evol_alg = \"DE\"\n",
        "evol_str_alg = \"ES\"\n",
        "\n",
        "pop_sizes = [50]\n",
        "mut_rates = [0.1]\n",
        "cross_rates = [0.6, 0.75, 0.9]\n",
        "stats = []\n",
        "count = 1\n",
        "\n",
        "# Example usage for different mutation rates, crossover rates, and population sizes\n",
        "print(f\"Running Genetic Algorithm on heart data.\\nModel=RandomForestClassifier()\")\n",
        "for pop_size in pop_sizes:\n",
        "    for mut_rate in mut_rates:\n",
        "        for cross_rate in cross_rates:\n",
        "            print(f\"Run: {count}\")\n",
        "            print(f\"Population Size: {pop_size}, Mutation Rate: {mut_rate}, Crossover Rate: {cross_rate}\")\n",
        "            best_chromosome, best_fitness, mean_fitness, std_fitness, worst_chromosome, worst_fitness = evolution(\n",
        "                algorithm=gen_alg,\n",
        "                dataset=heart_data,\n",
        "                model=RandomForestClassifier(),\n",
        "                pop_size=pop_size,\n",
        "                gens=3,\n",
        "                mut_rate=mut_rate,\n",
        "                cross_rate=cross_rate\n",
        "            )\n",
        "            print(f\"best_fitness: {best_fitness} best_chromosome: {best_chromosome}\")\n",
        "            stats.append((best_chromosome, best_fitness, mean_fitness, std_fitness, worst_chromosome, worst_fitness))\n",
        "            count += 1\n",
        "            # Convert stats to a DataFrame\n",
        "stats_df = pd.DataFrame(stats, columns=[\"Best Chromosome\", \"Best Fitness\", \"Mean Fitness\", \"Std Fitness\", \"Worst Chromosome\", \"Worst Fitness\"])\n",
        "\n",
        "# Display the DataFrame\n",
        "display(stats_df)"
      ]
    },
    {
      "cell_type": "code",
      "execution_count": null,
      "metadata": {},
      "outputs": [
        {
          "name": "stdout",
          "output_type": "stream",
          "text": [
            "Running Genetic Algorithm on heart data.\n",
            "Model=RandomForestClassifier()\n",
            "Run: 1\n",
            "Population Size: 100, Mutation Rate: 0.1, Crossover Rate: 0.6\n",
            "generation:0, best fitness: 0.9699413489736071, best chromosome: [1 1 1 0 1 1 1 0 1 0 0 0 0 0 1 1 0 0 1 0 1 0 0 0 0 0 0 0 0 0 1 0 0 1 1 1 0\n",
            " 0 0 0 1 0 1 1 1 0 0 1 1 0 1 0 0 0 1 1 0 1 0 1 1 0 0 1 0 1 0 0 0 0 1 0 0 0\n",
            " 1 0 1 0 1 0 1 1 1 1 0 1 0 0 0 0 1 1 0 0 1]\n"
          ]
        }
      ],
      "source": [
        "from sklearn.ensemble import RandomForestClassifier\n",
        "\n",
        "gen_alg = \"GA\"\n",
        "diff_evol_alg = \"DE\"\n",
        "evol_str_alg = \"ES\"\n",
        "\n",
        "pop_sizes = [10, 20, 30]\n",
        "mut_rates = [0.1, 0.15, 0.2]\n",
        "cross_rates = [0.6, 0.75, 0.9]\n",
        "\n",
        "stats = []\n",
        "count = 1\n",
        "\n",
        "# Example usage for different mutation rates, crossover rates, and population sizes\n",
        "print(f\"Running Genetic Algorithm on heart data.\\nModel=RandomForestClassifier()\")\n",
        "for pop_size in pop_sizes:\n",
        "    for mut_rate in mut_rates:\n",
        "        for cross_rate in cross_rates:\n",
        "            print(f\"Run: {count}\")\n",
        "            print(f\"Population Size: {pop_size}, Mutation Rate: {mut_rate}, Crossover Rate: {cross_rate}\")\n",
        "            best_chromosome, best_fitness, mean_fitness, std_fitness, worst_chromosome, worst_fitness = evolution(\n",
        "                algorithm=gen_alg,\n",
        "                dataset=bankrupt_data,\n",
        "                model=RandomForestClassifier(),\n",
        "                pop_size=pop_size,\n",
        "                gens=5,\n",
        "                mut_rate=mut_rate,\n",
        "                cross_rate=cross_rate\n",
        "            )\n",
        "            print(f\"best_fitness: {best_fitness} best_chromosome: {best_chromosome}\")\n",
        "            stats.append((best_chromosome, best_fitness, mean_fitness, std_fitness, worst_chromosome, worst_fitness))\n",
        "            count += 1\n",
        "            # Convert stats to a DataFrame\n",
        "stats_df = pd.DataFrame(stats, columns=[\"Best Chromosome\", \"Best Fitness\", \"Mean Fitness\", \"Std Fitness\", \"Worst Chromosome\", \"Worst Fitness\"])\n",
        "\n",
        "# Display the DataFrame\n",
        "display(stats_df)"
      ]
    }
  ],
  "metadata": {
    "colab": {
      "provenance": []
    },
    "kernelspec": {
      "display_name": "Python 3",
      "language": "python",
      "name": "python3"
    },
    "language_info": {
      "codemirror_mode": {
        "name": "ipython",
        "version": 3
      },
      "file_extension": ".py",
      "mimetype": "text/x-python",
      "name": "python",
      "nbconvert_exporter": "python",
      "pygments_lexer": "ipython3",
      "version": "3.10.12"
    }
  },
  "nbformat": 4,
  "nbformat_minor": 0
}
