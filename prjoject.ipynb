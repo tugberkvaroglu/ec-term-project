{
 "cells": [
  {
   "cell_type": "markdown",
   "metadata": {},
   "source": [
    "Machine Learning Feature Extraction Optimization Using Evolutionary Computation Algorithms\n"
   ]
  },
  {
   "cell_type": "markdown",
   "metadata": {},
   "source": [
    "Problem Definition\n",
    "\n",
    "Dataset Explaination\n",
    "\n",
    "Strategies\n"
   ]
  },
  {
   "cell_type": "markdown",
   "metadata": {},
   "source": [
    "**Possible datasets**\n",
    "\n",
    "[Heart Failure Prediction Dataset](https://www.kaggle.com/datasets/andrewmvd/heart-failure-clinical-data) (13 features)\n",
    "\n",
    "[Real or Fake Jobposting Prediction Dataset](https://www.kaggle.com/datasets/shivamb/real-or-fake-fake-jobposting-prediction) (18 features)\n",
    "\n",
    "[Footballer Price Prediction Dataset](https://www.kaggle.com/datasets/rashadrmammadov/football-teams-price-prediction) (26 features)\n",
    "\n",
    "[Loan Default Prediction Dataset](https://www.kaggle.com/datasets/hemanthsai7/loandefault) (35 features)\n",
    "\n",
    "[Bankruptcy Prediction Dataset](https://www.kaggle.com/datasets/fedesoriano/company-bankruptcy-prediction) (96 features)\n"
   ]
  },
  {
   "cell_type": "code",
   "execution_count": 7,
   "metadata": {},
   "outputs": [],
   "source": [
    "import pandas as pd\n",
    "import numpy as np"
   ]
  },
  {
   "cell_type": "markdown",
   "metadata": {},
   "source": [
    "Random Forest\n",
    "\n",
    "XGBoost\n",
    "\n",
    "Logistic Regression\n",
    "\n",
    "Linear Regression\n",
    "\n",
    "FCNN(?)\n",
    "\n",
    "SVM(?)"
   ]
  },
  {
   "cell_type": "code",
   "execution_count": null,
   "metadata": {},
   "outputs": [],
   "source": [
    "!pip install kagglehub"
   ]
  },
  {
   "cell_type": "code",
   "execution_count": 4,
   "metadata": {},
   "outputs": [
    {
     "name": "stdout",
     "output_type": "stream",
     "text": [
      "/home/tugberk/.cache/kagglehub/datasets/fedesoriano/company-bankruptcy-prediction/versions/2\n"
     ]
    }
   ],
   "source": [
    "import kagglehub\n",
    "\n",
    "\n",
    "path_bankrupt = kagglehub.dataset_download(\"fedesoriano/company-bankruptcy-prediction\")\n",
    "path_loan = kagglehub.dataset_download(\"hemanthsai7/loandefault\")\n",
    "path_footballer = kagglehub.dataset_download(\"rashadrmammadov/football-teams-price-prediction\")\n",
    "path_job = kagglehub.dataset_download(\"shivamb/real-or-fake-fake-jobposting-prediction\")\n",
    "path_heart = kagglehub.dataset_download(\"andrewmvd/heart-failure-clinical-data\")\n"
   ]
  },
  {
   "cell_type": "code",
   "execution_count": 5,
   "metadata": {},
   "outputs": [],
   "source": [
    "heart_data_path = f\"{path_heart}/heart_failure_clinical_records_dataset.csv\"\n",
    "job_data_path = f\"{path_job}/fake_job_postings.csv\"\n",
    "footballer_data_path = f\"{path_footballer}/Football_teams_price_data.csv\"\n",
    "loan_data_path = f\"{path_loan}/train.csv\"\n",
    "bankrupt_data_path = f\"{path_bankrupt}/data.csv\"\n"
   ]
  },
  {
   "cell_type": "code",
   "execution_count": 10,
   "metadata": {},
   "outputs": [
    {
     "data": {
      "text/plain": [
       "13"
      ]
     },
     "execution_count": 10,
     "metadata": {},
     "output_type": "execute_result"
    }
   ],
   "source": [
    "heart_data = pd.read_csv(heart_data_path)\n",
    "job_data = pd.read_csv(job_data_path)\n",
    "footballer_data = pd.read_csv(footballer_data_path)\n",
    "loan_data = pd.read_csv(loan_data_path)\n",
    "bankrupt_data = pd.read_csv(bankrupt_data_path)"
   ]
  },
  {
   "cell_type": "code",
   "execution_count": null,
   "metadata": {},
   "outputs": [],
   "source": [
    "#Algorithms : GA, DE, ES\n",
    "#Datasets: heart_data(13 dimension), job_data(18 dimension), footballer_data(26 dimension) \n",
    "#          loan_data(35 dimension), bankrupt_data(96 dimension)\n",
    "def evolution(algorithm, dataset, pop_size, gens = 100, mut_rate = 0.1, cross_rate = 0.9):\n",
    "\n",
    "    dimension = len(dataset.columns)\n",
    "    population_size = pop_size\n",
    "    generations = gens\n",
    "    mutation_rate = mut_rate\n",
    "    crossover_rate = cross_rate\n",
    "\n",
    "    if algorithm == \"GA\":\n",
    "        genetic_algorithm(dataset, dimension, population_size, generations, mutation_rate, crossover_rate)\n",
    "    elif algorithm == \"DE\":\n",
    "        differential_evolution(dataset, dimension, population_size, generations, mutation_rate)\n",
    "    elif algorithm == \"ES\":\n",
    "        evolution_strategy(dataset, dimension, population_size, generations, mutation_rate)"
   ]
  }
 ],
 "metadata": {
  "kernelspec": {
   "display_name": "Python 3",
   "language": "python",
   "name": "python3"
  },
  "language_info": {
   "codemirror_mode": {
    "name": "ipython",
    "version": 3
   },
   "file_extension": ".py",
   "mimetype": "text/x-python",
   "name": "python",
   "nbconvert_exporter": "python",
   "pygments_lexer": "ipython3",
   "version": "3.10.12"
  }
 },
 "nbformat": 4,
 "nbformat_minor": 2
}
