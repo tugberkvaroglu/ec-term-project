{
 "cells": [
  {
   "cell_type": "markdown",
   "metadata": {},
   "source": [
    "Machine Learning Feature Extraction Optimization Using Evolutionary Computation Algorithms\n"
   ]
  },
  {
   "cell_type": "markdown",
   "metadata": {},
   "source": [
    "Problem Definition\n",
    "\n",
    "Dataset Explaination\n",
    "\n",
    "Strategies\n"
   ]
  },
  {
   "cell_type": "markdown",
   "metadata": {},
   "source": [
    "**Possible datasets**\n",
    "\n",
    "[Heart Failure Prediction Dataset](https://www.kaggle.com/datasets/andrewmvd/heart-failure-clinical-data) (13 features)\n",
    "\n",
    "[Real or Fake Jobposting Prediction Dataset](https://www.kaggle.com/datasets/shivamb/real-or-fake-fake-jobposting-prediction) (18 features)\n",
    "\n",
    "[Footballer Price Prediction Dataset](https://www.kaggle.com/datasets/rashadrmammadov/football-teams-price-prediction) (26 features)\n",
    "\n",
    "[Loan Default Prediction Dataset](https://www.kaggle.com/datasets/hemanthsai7/loandefault) (35 features)\n",
    "\n",
    "[Bankruptcy Prediction Dataset](https://www.kaggle.com/datasets/fedesoriano/company-bankruptcy-prediction) (96 features)\n"
   ]
  },
  {
   "cell_type": "code",
   "execution_count": 7,
   "metadata": {},
   "outputs": [],
   "source": [
    "import pandas as pd\n",
    "import numpy as np"
   ]
  },
  {
   "cell_type": "markdown",
   "metadata": {},
   "source": [
    "Random Forest\n",
    "\n",
    "XGBoost\n",
    "\n",
    "Logistic Regression\n",
    "\n",
    "Linear Regression\n",
    "\n",
    "FCNN(?)\n",
    "\n",
    "SVM(?)"
   ]
  },
  {
   "cell_type": "code",
   "execution_count": null,
   "metadata": {},
   "outputs": [],
   "source": [
    "!pip install kagglehub"
   ]
  },
  {
   "cell_type": "code",
   "execution_count": 4,
   "metadata": {},
   "outputs": [
    {
     "name": "stdout",
     "output_type": "stream",
     "text": [
      "/home/tugberk/.cache/kagglehub/datasets/fedesoriano/company-bankruptcy-prediction/versions/2\n"
     ]
    }
   ],
   "source": [
    "import kagglehub\n",
    "\n",
    "\n",
    "path_bankrupt = kagglehub.dataset_download(\"fedesoriano/company-bankruptcy-prediction\")\n",
    "path_loan = kagglehub.dataset_download(\"hemanthsai7/loandefault\")\n",
    "path_footballer = kagglehub.dataset_download(\"rashadrmammadov/football-teams-price-prediction\")\n",
    "path_job = kagglehub.dataset_download(\"shivamb/real-or-fake-fake-jobposting-prediction\")\n",
    "path_heart = kagglehub.dataset_download(\"andrewmvd/heart-failure-clinical-data\")\n"
   ]
  },
  {
   "cell_type": "code",
   "execution_count": 5,
   "metadata": {},
   "outputs": [],
   "source": [
    "heart_data_path = f\"{path_heart}/heart_failure_clinical_records_dataset.csv\"\n",
    "job_data_path = f\"{path_job}/fake_job_postings.csv\"\n",
    "footballer_data_path = f\"{path_footballer}/Football_teams_price_data.csv\"\n",
    "loan_data_path = f\"{path_loan}/train.csv\"\n",
    "bankrupt_data_path = f\"{path_bankrupt}/data.csv\"\n"
   ]
  },
  {
   "cell_type": "code",
   "execution_count": 10,
   "metadata": {},
   "outputs": [
    {
     "data": {
      "text/plain": [
       "13"
      ]
     },
     "execution_count": 10,
     "metadata": {},
     "output_type": "execute_result"
    }
   ],
   "source": [
    "heart_data = pd.read_csv(heart_data_path)\n",
    "job_data = pd.read_csv(job_data_path)\n",
    "footballer_data = pd.read_csv(footballer_data_path)\n",
    "loan_data = pd.read_csv(loan_data_path)\n",
    "bankrupt_data = pd.read_csv(bankrupt_data_path)"
   ]
  },
  {
   "cell_type": "code",
   "execution_count": 1,
   "metadata": {},
   "outputs": [],
   "source": [
    "from sklearn.model_selection import train_test_split\n",
    "from sklearn.metrics import accuracy_score\n",
    "\n",
    "def fitness(chromosome, model, X, y):\n",
    "    # Select features based on the chromosome\n",
    "    selected_features = np.where(chromosome == 1)[0]\n",
    "    if len(selected_features) == 0:\n",
    "        # Return a very low fitness score if no features are selected\n",
    "        return 0.0\n",
    "\n",
    "    # Subset the dataset using selected features\n",
    "    X_selected = X[:, selected_features]\n",
    "\n",
    "    # Split data into training and testing sets\n",
    "    X_train, X_test, y_train, y_test = train_test_split(X_selected, y, test_size=0.2, random_state=42)\n",
    "\n",
    "    try:\n",
    "        # Train the model\n",
    "        model.fit(X_train, y_train)\n",
    "\n",
    "        # Predict on the test set\n",
    "        y_pred = model.predict(X_test)\n",
    "\n",
    "        # Calculate and return accuracy\n",
    "        fitness = accuracy_score(y_test, y_pred)\n",
    "        return fitness\n",
    "    except Exception as e:\n",
    "        print(f\"Error during model training or prediction: {e}\")\n",
    "        return 0.0\n"
   ]
  },
  {
   "cell_type": "code",
   "execution_count": null,
   "metadata": {},
   "outputs": [],
   "source": [
    "def parent_selection(f_values, n_pop): #parent selection for crossover\n",
    "    f_sum = np.sum(f_values)\n",
    "    probabilities = f_values / f_sum\n",
    "    return np.random.choice(np.arange(n_pop), size = 2, p = probabilities) #selecting 2 parents (size = 2) for crossover"
   ]
  },
  {
   "cell_type": "code",
   "execution_count": null,
   "metadata": {},
   "outputs": [],
   "source": [
    "def crossover(population, parents, crossover_rate, dimensions): #single-point crossover\n",
    "    if np.random.randint() < crossover_rate:\n",
    "        point = np.random.randint(1, dimensions)\n",
    "        child1 = np.concatenate((population[parents[0], :point], population[parents[1], point:]))\n",
    "        child2 = np.concatenate((population[parents[1], :point], population[parents[0], point:]))\n",
    "        return child1, child2\n",
    "    else:\n",
    "        return population[parents[0]], population[parents[1]]"
   ]
  },
  {
   "cell_type": "code",
   "execution_count": null,
   "metadata": {},
   "outputs": [],
   "source": [
    "def bitFlip_mutation(chromosome, mutation_rate): #bit flip mutation\n",
    "    for i in range(len(chromosome)):\n",
    "        if np.random.rand() < mutation_rate:\n",
    "            chromosome[i] = 1 - chromosome[i]\n",
    "    return chromosome"
   ]
  },
  {
   "cell_type": "code",
   "execution_count": null,
   "metadata": {},
   "outputs": [],
   "source": [
    "def genetic_algorithm(dataset, model, dimension, population_size, generations, mutation_rate, crossover_rate):\n",
    "    pop = np.random.randint(0, 2, size=(population_size, dimension))\n",
    "    X = dataset.iloc[:, :-1].values  # All columns except the last one\n",
    "    y = dataset.iloc[:, -1].values \n",
    "    fitness_values = [fitness(chromosome, model, X, y) for chromosome in pop]\n",
    "    max = np.argmax(fitness_values)\n",
    "    best_chromosome = pop[max]\n",
    "    best_fitness = fitness_values[max]\n",
    "    print(f\"generation:{0}, best fitness: {best_fitness}, best chromosome: {best_chromosome}\")\n",
    "    for gen in range(1, generations):\n",
    "        pop_new = np.zeros((len(pop), dimension), dtype=int)\n",
    "        for i in range(len(pop) // 2):\n",
    "            parents = parent_selection(fitness_values, len(pop))\n",
    "            child1, child2 = crossover(pop, parents, crossover_rate, dimension)\n",
    "            child1 = bitFlip_mutation(child1, mutation_rate)\n",
    "            child2 = bitFlip_mutation(child2, mutation_rate)\n",
    "            pop_new[i*2] = child1\n",
    "            pop_new[i*2 + 1] = child2\n",
    "        pop = pop_new\n",
    "        fitness_values = [fitness(chromosome, model, X, y) for chromosome in pop]\n",
    "        \n",
    "        max = np.argmax(fitness_values)\n",
    "        if fitness_values[max] > best_fitness:\n",
    "            best_chromosome = pop[max]\n",
    "            best_fitness = fitness_values[max]\n",
    "        print(f\"generation:{gen}, best fitness: {best_fitness}, best chromosome: {best_chromosome}\")\n",
    "    "
   ]
  },
  {
   "cell_type": "code",
   "execution_count": null,
   "metadata": {},
   "outputs": [],
   "source": [
    "#write me a differential_evolution function from the next cell\n",
    "\n",
    "def differential_evolution(dataset, model, dimension, population_size, generations, mutation_rate, crossover_rate):\n",
    "    population = np.random.rand(population_size, dimension)\n",
    "    for i in range(generations):\n",
    "        for j in range(population_size):\n",
    "            x = np.random.choice(population_size, 3, replace=False)\n",
    "            a, b, c = population[x]\n",
    "            mutant = a + mutation_rate * (b - c)\n",
    "            crossover = np.random.rand(dimension) < crossover_rate\n",
    "            population[j] = np.where(crossover, mutant, population[j])\n",
    "    return population"
   ]
  },
  {
   "cell_type": "code",
   "execution_count": null,
   "metadata": {},
   "outputs": [],
   "source": [
    "#write me a evolution_strategy function from the next cell\n",
    "\n",
    "def evolution_strategy(dataset, model, dimension, population_size, generations, mutation_rate, crossover_rate):\n",
    "    population = np.random.rand(population_size, dimension)\n",
    "    for i in range(generations):\n",
    "        for j in range(population_size):\n",
    "            x = np.random.choice(population_size, 3, replace=False)\n",
    "            a, b, c = population[x]\n",
    "            mutant = a + mutation_rate * (b - c)\n",
    "            crossover = np.random.rand(dimension) < crossover_rate\n",
    "            population[j] = np.where(crossover, mutant, population[j])\n",
    "    return population"
   ]
  },
  {
   "cell_type": "code",
   "execution_count": null,
   "metadata": {},
   "outputs": [],
   "source": [
    "#Algorithms : GA, DE, ES\n",
    "#Datasets: heart_data(13 dimension), job_data(18 dimension), footballer_data(26 dimension) \n",
    "#          loan_data(35 dimension), bankrupt_data(96 dimension)\n",
    "def evolution(algorithm, dataset, model, pop_size, gens = 10, mut_rate = 1/len(dataset.columns), cross_rate = 0.9):\n",
    "\n",
    "    dimension = len(dataset.columns)\n",
    "    population_size = pop_size\n",
    "    generations = gens\n",
    "    mutation_rate = mut_rate\n",
    "    crossover_rate = cross_rate\n",
    "\n",
    "    if algorithm == \"GA\":\n",
    "        genetic_algorithm(dataset, model, dimension, population_size, generations, mutation_rate, crossover_rate)\n",
    "    elif algorithm == \"DE\":\n",
    "        differential_evolution(dataset, model, dimension, population_size, generations, mutation_rate)\n",
    "    elif algorithm == \"ES\":\n",
    "        evolution_strategy(dataset, model, dimension, population_size, generations, mutation_rate)"
   ]
  }
 ],
 "metadata": {
  "kernelspec": {
   "display_name": "Python 3",
   "language": "python",
   "name": "python3"
  },
  "language_info": {
   "codemirror_mode": {
    "name": "ipython",
    "version": 3
   },
   "file_extension": ".py",
   "mimetype": "text/x-python",
   "name": "python",
   "nbconvert_exporter": "python",
   "pygments_lexer": "ipython3",
   "version": "3.10.12"
  }
 },
 "nbformat": 4,
 "nbformat_minor": 2
}
