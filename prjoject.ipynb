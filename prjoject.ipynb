{
 "cells": [
  {
   "cell_type": "markdown",
   "metadata": {},
   "source": [
    "Machine Learning Feature Extraction Optimization Using Evolutionary Computation Algorithms\n"
   ]
  },
  {
   "cell_type": "markdown",
   "metadata": {},
   "source": [
    "Problem Definition\n",
    "\n",
    "Dataset Explaination\n",
    "\n",
    "Strategies\n"
   ]
  },
  {
   "cell_type": "markdown",
   "metadata": {},
   "source": [
    "**Possible datasets**\n",
    "\n",
    "[Heart Failure Prediction Dataset](https://www.kaggle.com/datasets/andrewmvd/heart-failure-clinical-data) (13 features)\n",
    "\n",
    "[Real or Fake Jobposting Prediction Dataset](https://www.kaggle.com/datasets/shivamb/real-or-fake-fake-jobposting-prediction) (18 features)\n",
    "\n",
    "[Footballer Price Prediction Dataset](https://www.kaggle.com/datasets/rashadrmammadov/football-teams-price-prediction) (26 features)\n",
    "\n",
    "[Loan Default Prediction Dataset](https://www.kaggle.com/datasets/hemanthsai7/loandefault) (35 features)\n",
    "\n",
    "[Bankruptcy Prediction Dataset](https://www.kaggle.com/datasets/fedesoriano/company-bankruptcy-prediction) (96 features)\n"
   ]
  },
  {
   "cell_type": "code",
   "execution_count": 1,
   "metadata": {},
   "outputs": [],
   "source": [
    "import pandas as pd\n",
    "import numpy as np"
   ]
  },
  {
   "cell_type": "markdown",
   "metadata": {},
   "source": [
    "Random Forest\n",
    "\n",
    "XGBoost\n",
    "\n",
    "Logistic Regression\n",
    "\n",
    "Linear Regression\n",
    "\n",
    "FCNN(?)\n",
    "\n",
    "SVM(?)"
   ]
  },
  {
   "cell_type": "markdown",
   "metadata": {},
   "source": []
  }
 ],
 "metadata": {
  "kernelspec": {
   "display_name": "Python 3",
   "language": "python",
   "name": "python3"
  },
  "language_info": {
   "codemirror_mode": {
    "name": "ipython",
    "version": 3
   },
   "file_extension": ".py",
   "mimetype": "text/x-python",
   "name": "python",
   "nbconvert_exporter": "python",
   "pygments_lexer": "ipython3",
   "version": "3.10.12"
  }
 },
 "nbformat": 4,
 "nbformat_minor": 2
}
